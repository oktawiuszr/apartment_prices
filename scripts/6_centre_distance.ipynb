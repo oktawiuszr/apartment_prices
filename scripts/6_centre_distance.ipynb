{
 "cells": [
  {
   "cell_type": "markdown",
   "id": "157ff2ef",
   "metadata": {},
   "source": [
    "Comarison of price and distance to center distributions between cities."
   ]
  },
  {
   "cell_type": "code",
   "execution_count": null,
   "id": "e1185697",
   "metadata": {},
   "outputs": [],
   "source": [
    "from my import all_import\n",
    "import seaborn as sns\n",
    "import matplotlib.pyplot as plt\n",
    "import sys\n",
    "\n",
    "print(sys.executable)\n",
    "path = \"./../data/processed/\"\n",
    "\n",
    "names, files = all_import(\n",
    "    path\n",
    ")  # Var names contains names of imported files, var files contains target files\n",
    "\n",
    "for file in files:\n",
    "    # Print(file.columns)\n",
    "    file = file[\n",
    "        [\"city\", \"centreDistance\", \"price\"]\n",
    "    ]  # Selection city, centeDistance, and price columns\n",
    "    print(file)\n",
    "    cases=[\"rent\",\"purchase\"]\n",
    "    i=0\n",
    "    if file[\"price\"].iloc[0]>7000:\n",
    "        i=1\n",
    "    \n",
    "    # Price distribution\n",
    "    sns.displot(file, x=\"price\", hue=\"city\", kind=\"kde\", fill=True)\n",
    "    plt.title(\"Price distribution for \"+cases[i])\n",
    "    plt.xlabel(\"Price [zł]\")\n",
    "    plt.tight_layout()\n",
    "    plt.savefig(\"./../plots/\"+cases[i]+\"_price_distibution\")\n",
    "    plt.show()\n",
    "\n",
    "    # Centre distance distribution\n",
    "    sns.displot(file, x=\"centreDistance\", hue=\"city\", kind=\"kde\", fill=True)\n",
    "    plt.title(\"Distance from center distribution for \"+cases[i])\n",
    "    plt.xlabel(\"Distance to center [km]\")\n",
    "    plt.tight_layout()\n",
    "    plt.savefig(\"./../plots/\"+cases[i]+\"_distance_distibution\")\n",
    "    plt.show()"
   ]
  },
  {
   "cell_type": "markdown",
   "id": "504e23e5",
   "metadata": {},
   "source": [
    "Analysis of centre distance vs price for each city."
   ]
  },
  {
   "cell_type": "code",
   "execution_count": null,
   "id": "6ebdd6ea",
   "metadata": {},
   "outputs": [],
   "source": [
    "import pandas as pd\n",
    "from my import *\n",
    "import matplotlib.pyplot as plt\n",
    "import seaborn as sns\n",
    "\n",
    "path = \"./../data/processed/\"\n",
    "names, files = all_import(path)\n",
    "\n",
    "for name, file in zip(names, files):\n",
    "    file = file[[\"city\", \"centreDistance\", \"price\"]]\n",
    "    g=sns.FacetGrid(file,col=\"city\", aspect=4, height=3, col_wrap=1, hue=\"city\")\n",
    "    g.map(sns.histplot, \"centreDistance\", \"price\")\n",
    "    print(name[11:-4])\n",
    "    plt.savefig(\"./../plots/\"+name[11:-4]+\"_price_vs_center_distance_distribution\")\n",
    "    plt.show()"
   ]
  }
 ],
 "metadata": {
  "kernelspec": {
   "display_name": "Python 3",
   "language": "python",
   "name": "python3"
  },
  "language_info": {
   "codemirror_mode": {
    "name": "ipython",
    "version": 3
   },
   "file_extension": ".py",
   "mimetype": "text/x-python",
   "name": "python",
   "nbconvert_exporter": "python",
   "pygments_lexer": "ipython3",
   "version": "3.13.3"
  }
 },
 "nbformat": 4,
 "nbformat_minor": 5
}
