{
 "cells": [
  {
   "cell_type": "code",
   "execution_count": null,
   "id": "020ab9a3",
   "metadata": {},
   "outputs": [],
   "source": [
    "from my import all_import\n",
    "import pandas as pd\n",
    "import matplotlib.pyplot as plt\n",
    "import seaborn as sns\n",
    "\n",
    "path = \"./../data/processed/\"\n",
    "files = all_import(path)\n",
    "\n",
    "for file in files[0]:\n",
    "    print(file)\n",
    "    data = pd.read_csv(path + file)\n",
    "    # Price per sq meter\n",
    "    data[\"price/sq_m\"] = data[\"price\"] / data[\"squareMeters\"]\n",
    "    columns_to_keep = [\"city\", \"Period\", \"price/sq_m\"]\n",
    "    data = data[columns_to_keep]\n",
    "\n",
    "    # Count average for each period for each city\n",
    "    avg_table = data.groupby([\"city\", \"Period\"])[\"price/sq_m\"].mean().reset_index()\n",
    "    avg_table[\"Period\"] = pd.to_datetime(avg_table[\"Period\"], format=\"%m_%y\")\n",
    "    avg_table = avg_table.sort_values(\"Period\")\n",
    "\n",
    "    # Plot\n",
    "    plt.figure(figsize=(8, 5))\n",
    "    sns.lineplot(data=avg_table, x=\"Period\", y=\"price/sq_m\", hue=\"city\", marker=\"o\")\n",
    "    plt.title(\n",
    "        \"Average price per square meter by city and period for \"\n",
    "        + file[11:-4]\n",
    "        + \" of flat\"\n",
    "    )\n",
    "    plt.ylabel(\"Price per m$^2$ [zł]\")\n",
    "    plt.xlabel(\"Period\")\n",
    "    plt.xticks(rotation=45)\n",
    "    plt.tight_layout()\n",
    "    plt.grid(True)\n",
    "    plt.legend(title=\"City\")\n",
    "    plt.savefig(\"./../plots/\"+file[11:-4]+\"_average_price_vs_period\")\n",
    "    plt.show()\n"
   ]
  }
 ],
 "metadata": {
  "kernelspec": {
   "display_name": ".conda",
   "language": "python",
   "name": "python3"
  },
  "language_info": {
   "codemirror_mode": {
    "name": "ipython",
    "version": 3
   },
   "file_extension": ".py",
   "mimetype": "text/x-python",
   "name": "python",
   "nbconvert_exporter": "python",
   "pygments_lexer": "ipython3",
   "version": "3.11.13"
  }
 },
 "nbformat": 4,
 "nbformat_minor": 5
}
