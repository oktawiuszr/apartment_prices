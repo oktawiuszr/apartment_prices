{
 "cells": [
  {
   "cell_type": "markdown",
   "id": "157ff2ef",
   "metadata": {},
   "source": [
    "Analysis for each city centre distance vs price\n",
    "Overlaping plots"
   ]
  }
 ],
 "metadata": {
  "language_info": {
   "name": "python"
  }
 },
 "nbformat": 4,
 "nbformat_minor": 5
}
