{
 "cells": [
  {
   "cell_type": "markdown",
   "id": "447ef639",
   "metadata": {},
   "source": [
    "Data overview"
   ]
  },
  {
   "cell_type": "code",
   "execution_count": null,
   "id": "9f7c4f40",
   "metadata": {},
   "outputs": [],
   "source": [
    "import pandas as pd\n",
    "\n",
    "data = pd.read_csv(\"./../data/raw/apartments_pl_2023_08.csv\")\n",
    "\n",
    "print(\"Data overview: \")\n",
    "print(data.head())\n",
    "print(\"/n Shape od data\", data.shape)\n",
    "print(\"\\n Lack of values: \")\n",
    "print(data.isnull().sum())\n",
    "print(\"\\n Stats:\")\n",
    "print(data.describe(include=\"all\"))\n",
    "\n",
    "# Cities spectrum\n",
    "print(data[\"city\"].unique())"
   ]
  },
  {
   "cell_type": "markdown",
   "id": "d0a23f06",
   "metadata": {},
   "source": [
    "A. Data cleaning steps:\n",
    "1. For NaN in columns hasStorageRoom, hasSecurity, has Elevator, hasBalcony, and hasParkingSpace the NaN is filled with no\n",
    "2. For NaN in columns with distances, the NaN is  filled with distance to the center\n",
    "3. For Na in columns with condition, NaN is filled with \"Low\"\n",
    "4. Floor is  filled with floor count for apartment\n",
    "5. FloorCount is to remove\n",
    "6. bulidYear mean -70 +random (0-40)\n",
    "7. Type with Notype\n",
    "8. BuidingMaterial is \"concreteSlab\"\n",
    "\n",
    "B. Data analysis\n",
    "1. Wrocław, Warszawa, Lublin, Łódz, Radom\n",
    "2. Choice of spectrum of normalized parameters, with similar data, based on mediane, but suficient number of records.\n",
    "3. Dependence of price VS. hasElevator\n",
    "4. Dependence price for standard flat rent vs time \n",
    "5. Price vs centerDistance\n",
    "6. Comparison for both rent and purchase\n",
    "\n"
   ]
  },
  {
   "cell_type": "code",
   "execution_count": null,
   "id": "783f1c03",
   "metadata": {},
   "outputs": [],
   "source": [
    "# City with the largest numbe of records:\n",
    "import os\n",
    "\n",
    "data_path = \"./../data/raw/\"\n",
    "\n",
    "rent = [file for file in os.listdir(data_path) if file.startswith(\"apartments_rent_pl\")]\n",
    "purchase = [\n",
    "    file2 for file2 in os.listdir(data_path) if file2.startswith(\"apartments_pl\")\n",
    "]\n",
    "\n",
    "print(rent)\n",
    "print(purchase)\n",
    "\n",
    "\n",
    "for file in rent:\n",
    "    data = pd.read_csv(data_path + file)\n",
    "    city_counts = data[\"city\"].value_counts()\n",
    "    print(city_counts)"
   ]
  }
 ],
 "metadata": {
  "kernelspec": {
   "display_name": "Python 3",
   "language": "python",
   "name": "python3"
  },
  "language_info": {
   "codemirror_mode": {
    "name": "ipython",
    "version": 3
   },
   "file_extension": ".py",
   "mimetype": "text/x-python",
   "name": "python",
   "nbconvert_exporter": "python",
   "pygments_lexer": "ipython3",
   "version": "3.13.3"
  }
 },
 "nbformat": 4,
 "nbformat_minor": 5
}
